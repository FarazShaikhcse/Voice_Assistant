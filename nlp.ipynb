{
 "cells": [
  {
   "cell_type": "code",
   "execution_count": 8,
   "metadata": {},
   "outputs": [],
   "source": [
    "import speech_recognition as sr\n",
    "import os\n",
    "from jiwer import wer\n",
    "import datetime\n",
    "import pyttsx3 \n",
    "import webbrowser\n",
    "import wikipedia\n",
    "import random\n",
    "from jaccard_index.jaccard import jaccard_index\n",
    "from tkinter import *\n",
    "from tkinter import messagebox\n",
    "#import pyttsx3 "
   ]
  },
  {
   "cell_type": "code",
   "execution_count": null,
   "metadata": {},
   "outputs": [],
   "source": []
  },
  {
   "cell_type": "code",
   "execution_count": null,
   "metadata": {},
   "outputs": [],
   "source": []
  },
  {
   "cell_type": "code",
   "execution_count": 9,
   "metadata": {},
   "outputs": [],
   "source": [
    "engine = pyttsx3.init()  \n",
    "engine.setProperty('rate', 125) "
   ]
  },
  {
   "cell_type": "code",
   "execution_count": 10,
   "metadata": {},
   "outputs": [],
   "source": [
    "def myCommand():\n",
    "    r = sr.Recognizer()\n",
    "    print(\"Speak\")\n",
    "    with sr.Microphone() as source:\n",
    "        r.energy_threshold=9000\n",
    "        r.adjust_for_ambient_noise(source,1.2)\n",
    "        #r.pause_threshold=1\n",
    "        audio = r.listen(source)\n",
    "        \n",
    "        command=\"\"\n",
    "        \n",
    "    try:\n",
    "        \n",
    "        command = r.recognize_google(audio)\n",
    "        \n",
    "        print('You said: ' + command + '\\n')\n",
    "        words=command.split(' ')\n",
    "        for i in words:\n",
    "            \n",
    "            if(i[0].lower() in ['a','b','c','d','e','f']):\n",
    "                f = open(\"words1.txt\", \"a\")\n",
    "                f.write(i+\" \")\n",
    "                f.close()\n",
    "            elif(i[0].lower() in ['g','h','i','j','k','l']):\n",
    "                f = open(\"words2.txt\", \"a\")\n",
    "                f.write(i+\" \")\n",
    "                f.close()\n",
    "            elif(i[0].lower() in ['m','n','o','p','q','r']):\n",
    "                f = open(\"words3.txt\", \"a\")\n",
    "                f.write(i+\" \")\n",
    "                f.close() \n",
    "            else:\n",
    "                f = open(\"words4.txt\", \"a\")\n",
    "                f.write(i+\" \")\n",
    "                f.close()\n",
    "                \n",
    "                \n",
    "        #speak(command)\n",
    "    #loop back to continue to listen for commands if unrecognizable speech is received\n",
    "    except Exception as e:\n",
    "        print(e)\n",
    "       \n",
    "    return command"
   ]
  },
  {
   "cell_type": "code",
   "execution_count": 4,
   "metadata": {},
   "outputs": [
    {
     "name": "stdout",
     "output_type": "stream",
     "text": [
      "Speak\n",
      "You said: hello how are you\n",
      "\n"
     ]
    },
    {
     "data": {
      "text/plain": [
       "'hello how are you'"
      ]
     },
     "execution_count": 4,
     "metadata": {},
     "output_type": "execute_result"
    }
   ],
   "source": [
    "myCommand()"
   ]
  },
  {
   "cell_type": "code",
   "execution_count": null,
   "metadata": {},
   "outputs": [],
   "source": []
  },
  {
   "cell_type": "code",
   "execution_count": null,
   "metadata": {},
   "outputs": [],
   "source": []
  },
  {
   "cell_type": "code",
   "execution_count": 4,
   "metadata": {},
   "outputs": [],
   "source": [
    "def myhindiCommand():\n",
    "    r1 = sr.Recognizer()\n",
    "    with sr.Microphone() as source:\n",
    "        Haudio = r1.listen(source)\n",
    "        Hcommand=\"\"\n",
    "    try:\n",
    "        Hcommand = r1.recognize_google(Haudio,language='hi-In')\n",
    "        print('You said: ' + Hcommand + '\\n')\n",
    "        #speak(command)\n",
    "    #loop back to continue to listen for commands if unrecognizable speech is received\n",
    "    except Exception as e:\n",
    "        print(e)\n",
    "       \n",
    "    return Hcommand"
   ]
  },
  {
   "cell_type": "code",
   "execution_count": 6,
   "metadata": {},
   "outputs": [
    {
     "name": "stdout",
     "output_type": "stream",
     "text": [
      "You said: आपका नाम क्या है\n",
      "\n"
     ]
    },
    {
     "data": {
      "text/plain": [
       "'आपका नाम क्या है'"
      ]
     },
     "execution_count": 6,
     "metadata": {},
     "output_type": "execute_result"
    }
   ],
   "source": [
    "myhindiCommand()"
   ]
  },
  {
   "cell_type": "code",
   "execution_count": 11,
   "metadata": {},
   "outputs": [],
   "source": [
    "def speak(audio):\n",
    "    engine.say(audio)  \n",
    "    engine.runAndWait()  "
   ]
  },
  {
   "cell_type": "code",
   "execution_count": 12,
   "metadata": {},
   "outputs": [],
   "source": [
    "def wishme():\n",
    "    hour=int(datetime.datetime.now().hour)\n",
    "    if hour >0 and hour<12:\n",
    "        speak(\"Good morning\")\n",
    "    elif hour>=12 and hour<16:\n",
    "        speak(\"Good afternoon\")\n",
    "    elif hour >=16 and hour<19:\n",
    "        speak(\"good evening\")\n",
    "    else:\n",
    "        speak(\"good night\")\n",
    "    speak(\"How can I help you\")"
   ]
  },
  {
   "cell_type": "code",
   "execution_count": null,
   "metadata": {},
   "outputs": [
    {
     "name": "stdout",
     "output_type": "stream",
     "text": [
      "Speak\n",
      "\n",
      "Speak\n",
      "You said: open Google\n",
      "\n",
      "Speak\n",
      "\n",
      "Speak\n",
      "You said: time Dayton\n",
      "\n",
      "Speak\n",
      "\n"
     ]
    },
    {
     "name": "stderr",
     "output_type": "stream",
     "text": [
      "Exception ignored in: <function BSTR.__del__ at 0x0000012C7BA691F8>\n",
      "Traceback (most recent call last):\n",
      "  File \"c:\\users\\faraz\\appdata\\local\\programs\\python\\python37\\lib\\site-packages\\comtypes\\__init__.py\", line 999, in __del__\n",
      "    def __del__(self, _free=windll.oleaut32.SysFreeString):\n",
      "KeyboardInterrupt\n"
     ]
    },
    {
     "name": "stdout",
     "output_type": "stream",
     "text": [
      "Speak\n",
      "You said: Jay Shri Ram\n",
      "\n"
     ]
    },
    {
     "name": "stderr",
     "output_type": "stream",
     "text": [
      "Exception ignored in: <function BSTR.__del__ at 0x0000012C7BA691F8>\n",
      "Traceback (most recent call last):\n",
      "  File \"c:\\users\\faraz\\appdata\\local\\programs\\python\\python37\\lib\\site-packages\\comtypes\\__init__.py\", line 999, in __del__\n",
      "    def __del__(self, _free=windll.oleaut32.SysFreeString):\n",
      "KeyboardInterrupt\n"
     ]
    },
    {
     "name": "stdout",
     "output_type": "stream",
     "text": [
      "Speak\n",
      "\n",
      "Speak\n"
     ]
    }
   ],
   "source": [
    "\n",
    "if __name__ == \"__main__\":\n",
    "        wishme()\n",
    "        while True:\n",
    "            query=myCommand().lower()\n",
    "            now = datetime.datetime.now()\n",
    "            if 'stop' in query or 'bye' in query:\n",
    "                speak('have a good day')\n",
    "                break\n",
    "            elif 'tell me about' in query:\n",
    "                speak('Searching wikipedia result....')\n",
    "                query=query.replace('tell me about','')\n",
    "                print(query)\n",
    "                result=wikipedia.summary(query,sentences=2)\n",
    "                speak(\"According to wikipedia\")\n",
    "                speak(result)\n",
    "            elif 'open youtube' in query:\n",
    "                webbrowser.open('youtube.com')\n",
    "\n",
    "            elif 'open google' in query:\n",
    "                webbrowser.open('google.com')\n",
    "            \n",
    "            elif 'how are you' in query:\n",
    "                speak(\"I'm good, thanks for asking\")\n",
    "            \n",
    "            elif 'date' in query:\n",
    "                speak(now.strftime('%d/%m/%Y'))\n",
    "            elif 'time' in query:\n",
    "                speak(now.strftime('%I:%M %p'))\n",
    "            elif 'search about' in query:\n",
    "                query=query.replace('search about','')\n",
    "                \n",
    "                webbrowser.open('https://www.google.com/search?q='+query)\n",
    "            elif 'play music' in query:\n",
    "                music_dir=\"D:\\\\songsss\"\n",
    "                songs=os.listdir(music_dir)\n",
    "                num=random.randint(0,2)\n",
    "                os.startfile(os.path.join(music_dir,songs[num]))\n",
    "            else:\n",
    "                speak(\"i didn't get you, please repeat\")\n",
    "\n"
   ]
  },
  {
   "cell_type": "code",
   "execution_count": 16,
   "metadata": {},
   "outputs": [
    {
     "name": "stdout",
     "output_type": "stream",
     "text": [
      "Natural language processing is a subfield of linguistics, computer science, and artificial intelligence concerned with the interactions between computers and human language, in particular how to program computers to process and analyze large amounts of natural language data. The result is a computer capable of \"understanding\" the contents of documents, including the contextual nuances of the language within them. The technology can then accurately extract information and insights contained in the documents as well as categorize and organize the documents themselves.\n",
      "\n",
      "\n",
      "Detected words:\n",
      "Natural Language Processing is a subfield of linguistic computer science and artificial intelligence concerned with the interactions between computers and human language in particular how to program computers to process and analysing large amount of natural language data the result is a computer capable of understanding the context of documents including the contacts velocities of language within them the technology can then accurately extract information and insight contained in document as well as categorise and organise the document themselves\n"
     ]
    }
   ],
   "source": [
    "with open(\"hypothesis.txt\", 'r') as file:\n",
    "    data = file.read().replace('\\n', ' ')\n",
    "print(data)    \n",
    "def recognizefile():\n",
    "    r4=sr.Recognizer()\n",
    "    with sr.AudioFile('output.wav') as source:\n",
    "        audio=r4.listen(source)\n",
    "        text=''\n",
    "    try:\n",
    "        text=r4.recognize_google(audio)\n",
    "\n",
    "        print(\"\\n\\nDetected words:\\n\"+text)\n",
    "    except:\n",
    "        print('j')\n",
    "    return text\n",
    "mywords=recognizefile()\n",
    "jaccaurd_score=jaccard_index(data,mywords)\n",
    "\n"
   ]
  },
  {
   "cell_type": "code",
   "execution_count": 17,
   "metadata": {},
   "outputs": [
    {
     "data": {
      "text/plain": [
       "0.8954248366013072"
      ]
     },
     "execution_count": 17,
     "metadata": {},
     "output_type": "execute_result"
    }
   ],
   "source": [
    "jaccaurd_score"
   ]
  },
  {
   "cell_type": "code",
   "execution_count": 18,
   "metadata": {},
   "outputs": [
    {
     "data": {
      "text/plain": [
       "0.2962962962962963"
      ]
     },
     "execution_count": 18,
     "metadata": {},
     "output_type": "execute_result"
    }
   ],
   "source": [
    "wer(data,mywords)"
   ]
  },
  {
   "cell_type": "code",
   "execution_count": null,
   "metadata": {},
   "outputs": [],
   "source": [
    "\n",
    "\n",
    "engine = pyttsx3.init()  \n",
    "engine.setProperty('rate', 125) \n",
    "root=Tk()\n",
    "root.geometry(\"300x300\")\n",
    "cmd=\"\"\n",
    "def disp(cmd):\n",
    "    var.set('You said: ' + cmd + '\\n')\n",
    "    \n",
    "def myCommand():\n",
    "    r = sr.Recognizer()\n",
    "    \n",
    "    with sr.Microphone() as source:\n",
    "        r.energy_threshold=9000\n",
    "        r.adjust_for_ambient_noise(source,1.2)        #r.pause_threshold=1\n",
    "        audio = r.listen(source)\n",
    "        \n",
    "        command=\"\"\n",
    "    try:\n",
    "        \n",
    "        command = r.recognize_google(audio)\n",
    "        cmd=command\n",
    "        print('You said: ' + command + '\\n')\n",
    "        #speak(command)\n",
    "        words=command.split(' ')\n",
    "        for i in words:\n",
    "            \n",
    "            if(i[0].lower() in ['a','b','c','d','e','f']):\n",
    "                f = open(\"words1.txt\", \"a\")\n",
    "                f.write(i+\" \")\n",
    "                f.close()\n",
    "            elif(i[0].lower() in ['g','h','i','j','k','l']):\n",
    "                f = open(\"words2.txt\", \"a\")\n",
    "                f.write(i+\" \")\n",
    "                f.close()\n",
    "            elif(i[0].lower() in ['m','n','o','p','q','r']):\n",
    "                f = open(\"words3.txt\", \"a\")\n",
    "                f.write(i+\" \")\n",
    "                f.close() \n",
    "            else:\n",
    "                f = open(\"words4.txt\", \"a\")\n",
    "                f.write(i+\" \")\n",
    "                f.close()\n",
    "                \n",
    "        disp(cmd)\n",
    "        \n",
    "        \n",
    "    #loop back to continue to listen for commands if unrecognizable speech is received\n",
    "    except Exception as e:\n",
    "        print(e)\n",
    "    print(\"test\")   \n",
    "    return command\n",
    "text=\"\"\n",
    "root1=Tk()\n",
    "root1.geometry(\"200x200\")\n",
    "entry1 = Entry(root1)\n",
    "root1.withdraw()\n",
    "def speak2():\n",
    "    text=entry1.get()\n",
    "    engine.say(text)  \n",
    "    engine.runAndWait()\n",
    "def tts():\n",
    "    root1.deiconify()\n",
    "    L2 = Label(root1, text=\"Enter text\")\n",
    "    L2.pack()  \n",
    "    \n",
    "    entry1.pack()\n",
    "   \n",
    "    B = Button(root1, text = \"Text to speech\", command = speak2)\n",
    "    B.pack()\n",
    "    root1.mainloop()\n",
    "     \n",
    "\n",
    " \n",
    "def speak(audio):\n",
    "    engine.say(audio)  \n",
    "    engine.runAndWait()     \n",
    "\n",
    "       \n",
    "'''\n",
    "with open(\"hypothesis.txt\", 'r') as file:\n",
    "    data = file.read().replace('\\n', ' ')\n",
    "def recognizefile():\n",
    "    r4=sr.Recognizer()\n",
    "    with sr.AudioFile('output.wav') as source:\n",
    "        audio=r4.listen(source)\n",
    "        text=''\n",
    "    try:\n",
    "        text=r4.recognize_google(audio)\n",
    "\n",
    "        print(text)\n",
    "    except:\n",
    "        print('j')\n",
    "    return text\n",
    "mywords=recognizefile()\n",
    "jaccaurd_score=jaccard_index(data,mywords)\n",
    "wer(data,mywords)\n",
    "jaccaurd_score\n",
    "\n",
    "root2=Tk()\n",
    "root2.geometry(\"200x200\")\n",
    "entry2 = Entry(root2)\n",
    "root2.withdraw()\n",
    "def wertest():\n",
    "    L4= Label(root2, text=\"Please say \"+entry2.get())\n",
    "    L4.pack()\n",
    "    myCommand()\n",
    "    words=cmd\n",
    "    print(words+\"aa\")\n",
    "    jaccaurd_score=jaccard_index(entry2.get(),words)\n",
    "    L5= Label(root2, text=\"jaccaurd_score is\"+str(jaccaurd_score))\n",
    "    L5.pack()\n",
    "    #print(jaccaurd_score+\"tt \"+wer(entry2.get(),words))\n",
    "    root2.mainloop()\n",
    "def WER():\n",
    "    root2.deiconify()\n",
    "    L3= Label(root2, text=\"Enter text\")\n",
    "    L3.pack() \n",
    "    \n",
    "    \n",
    "    entry2.pack()\n",
    "   \n",
    "    B1 = Button(root2, text = \"Test\", command = wertest)\n",
    "    B1.pack()\n",
    "    root2.mainloop()\n",
    "'''\n",
    "\n",
    "B1 = Button(root, text = \"Speech to text\", command = myCommand)\n",
    "B1.pack(pady=10)\n",
    "B2 = Button(root, text = \"Text to speech\", command = tts)\n",
    "B2.pack(pady=10)\n",
    "var = StringVar()\n",
    "var.set('')\n",
    "l = Label(root, textvariable = var)\n",
    "l.pack()\n",
    "root.mainloop()\n",
    "\n",
    "\n"
   ]
  },
  {
   "cell_type": "code",
   "execution_count": null,
   "metadata": {},
   "outputs": [],
   "source": []
  }
 ],
 "metadata": {
  "kernelspec": {
   "display_name": "Python 3",
   "language": "python",
   "name": "python3"
  },
  "language_info": {
   "codemirror_mode": {
    "name": "ipython",
    "version": 3
   },
   "file_extension": ".py",
   "mimetype": "text/x-python",
   "name": "python",
   "nbconvert_exporter": "python",
   "pygments_lexer": "ipython3",
   "version": "3.7.4"
  }
 },
 "nbformat": 4,
 "nbformat_minor": 2
}
