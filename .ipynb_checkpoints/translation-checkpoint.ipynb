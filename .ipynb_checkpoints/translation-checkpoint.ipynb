{
 "cells": [
  {
   "cell_type": "code",
   "execution_count": 2,
   "metadata": {},
   "outputs": [],
   "source": [
    "from googletrans import Translator\n",
    "import speech_recognition as sr\n",
    "import pyttsx3 \n"
   ]
  },
  {
   "cell_type": "code",
   "execution_count": 3,
   "metadata": {},
   "outputs": [],
   "source": [
    "translator = Translator()\n",
    "\n"
   ]
  },
  {
   "cell_type": "code",
   "execution_count": 4,
   "metadata": {},
   "outputs": [],
   "source": [
    "engine = pyttsx3.init()  \n",
    "engine.setProperty('rate', 125) "
   ]
  },
  {
   "cell_type": "code",
   "execution_count": 5,
   "metadata": {},
   "outputs": [],
   "source": [
    "def speak(audio):\n",
    "    engine.say(audio)  \n",
    "    engine.runAndWait() "
   ]
  },
  {
   "cell_type": "code",
   "execution_count": 6,
   "metadata": {},
   "outputs": [],
   "source": [
    "def myhindiCommand():\n",
    "    r1 = sr.Recognizer()\n",
    "    with sr.Microphone() as source:\n",
    "        Haudio = r1.listen(source)\n",
    "        Hcommand=\"\"\n",
    "    try:\n",
    "        Hcommand = r1.recognize_google(Haudio,language='hi-In')\n",
    "        print('You said: ' + Hcommand + '\\n')\n",
    "        #speak(command)\n",
    "    #loop back to continue to listen for commands if unrecognizable speech is received\n",
    "    except Exception as e:\n",
    "        print(e)\n",
    "       \n",
    "    return Hcommand"
   ]
  },
  {
   "cell_type": "code",
   "execution_count": 7,
   "metadata": {},
   "outputs": [],
   "source": [
    "def mykannadaCommand():\n",
    "    r2 = sr.Recognizer()\n",
    "    with sr.Microphone() as source:\n",
    "        Kaudio = r2.listen(source)\n",
    "        Kcommand=\"\"\n",
    "    try:\n",
    "        Kcommand = r2.recognize_google(Kaudio,language='kn-In')\n",
    "        print('You said: ' + Kcommand + '\\n')\n",
    "        #speak(command)\n",
    "    #loop back to continue to listen for commands if unrecognizable speech is received\n",
    "    except Exception as e:\n",
    "        print(e)\n",
    "       \n",
    "    return Kcommand"
   ]
  },
  {
   "cell_type": "code",
   "execution_count": 8,
   "metadata": {},
   "outputs": [
    {
     "name": "stdout",
     "output_type": "stream",
     "text": [
      "You said: हेलो कैसे हो\n",
      "\n"
     ]
    }
   ],
   "source": [
    "hindi_sentence=myhindiCommand()\n"
   ]
  },
  {
   "cell_type": "code",
   "execution_count": 12,
   "metadata": {},
   "outputs": [
    {
     "name": "stdout",
     "output_type": "stream",
     "text": [
      "\n"
     ]
    }
   ],
   "source": [
    "original_sentence=mykannadaCommand()"
   ]
  },
  {
   "cell_type": "code",
   "execution_count": 14,
   "metadata": {},
   "outputs": [
    {
     "ename": "AttributeError",
     "evalue": "'NoneType' object has no attribute 'group'",
     "output_type": "error",
     "traceback": [
      "\u001b[1;31m---------------------------------------------------------------------------\u001b[0m",
      "\u001b[1;31mAttributeError\u001b[0m                            Traceback (most recent call last)",
      "\u001b[1;32m<ipython-input-14-d5ddaf73f118>\u001b[0m in \u001b[0;36m<module>\u001b[1;34m\u001b[0m\n\u001b[1;32m----> 1\u001b[1;33m \u001b[0menglish_translation\u001b[0m\u001b[1;33m=\u001b[0m\u001b[0mtranslator\u001b[0m\u001b[1;33m.\u001b[0m\u001b[0mtranslate\u001b[0m\u001b[1;33m(\u001b[0m\u001b[1;34m\"original_sentence\"\u001b[0m\u001b[1;33m,\u001b[0m\u001b[0mdest\u001b[0m\u001b[1;33m=\u001b[0m\u001b[1;34m'en'\u001b[0m\u001b[1;33m)\u001b[0m\u001b[1;33m\u001b[0m\u001b[1;33m\u001b[0m\u001b[0m\n\u001b[0m\u001b[0;32m      2\u001b[0m \u001b[1;31m#print(english_translation.text)\u001b[0m\u001b[1;33m\u001b[0m\u001b[1;33m\u001b[0m\u001b[1;33m\u001b[0m\u001b[0m\n\u001b[0;32m      3\u001b[0m \u001b[1;31m#text=str(english_translation.text)\u001b[0m\u001b[1;33m\u001b[0m\u001b[1;33m\u001b[0m\u001b[1;33m\u001b[0m\u001b[0m\n\u001b[0;32m      4\u001b[0m \u001b[0mspeak\u001b[0m\u001b[1;33m(\u001b[0m\u001b[0menglish_translation\u001b[0m\u001b[1;33m.\u001b[0m\u001b[0mtext\u001b[0m\u001b[1;33m)\u001b[0m\u001b[1;33m\u001b[0m\u001b[1;33m\u001b[0m\u001b[0m\n\u001b[0;32m      5\u001b[0m \u001b[0mprint\u001b[0m\u001b[1;33m(\u001b[0m\u001b[0menglish_translation\u001b[0m\u001b[1;33m.\u001b[0m\u001b[0mtext\u001b[0m\u001b[1;33m)\u001b[0m\u001b[1;33m\u001b[0m\u001b[1;33m\u001b[0m\u001b[0m\n",
      "\u001b[1;32mc:\\users\\faraz\\appdata\\local\\programs\\python\\python37\\lib\\site-packages\\googletrans\\client.py\u001b[0m in \u001b[0;36mtranslate\u001b[1;34m(self, text, dest, src, **kwargs)\u001b[0m\n\u001b[0;32m    180\u001b[0m \u001b[1;33m\u001b[0m\u001b[0m\n\u001b[0;32m    181\u001b[0m         \u001b[0morigin\u001b[0m \u001b[1;33m=\u001b[0m \u001b[0mtext\u001b[0m\u001b[1;33m\u001b[0m\u001b[1;33m\u001b[0m\u001b[0m\n\u001b[1;32m--> 182\u001b[1;33m         \u001b[0mdata\u001b[0m \u001b[1;33m=\u001b[0m \u001b[0mself\u001b[0m\u001b[1;33m.\u001b[0m\u001b[0m_translate\u001b[0m\u001b[1;33m(\u001b[0m\u001b[0mtext\u001b[0m\u001b[1;33m,\u001b[0m \u001b[0mdest\u001b[0m\u001b[1;33m,\u001b[0m \u001b[0msrc\u001b[0m\u001b[1;33m,\u001b[0m \u001b[0mkwargs\u001b[0m\u001b[1;33m)\u001b[0m\u001b[1;33m\u001b[0m\u001b[1;33m\u001b[0m\u001b[0m\n\u001b[0m\u001b[0;32m    183\u001b[0m \u001b[1;33m\u001b[0m\u001b[0m\n\u001b[0;32m    184\u001b[0m         \u001b[1;31m# this code will be updated when the format is changed.\u001b[0m\u001b[1;33m\u001b[0m\u001b[1;33m\u001b[0m\u001b[1;33m\u001b[0m\u001b[0m\n",
      "\u001b[1;32mc:\\users\\faraz\\appdata\\local\\programs\\python\\python37\\lib\\site-packages\\googletrans\\client.py\u001b[0m in \u001b[0;36m_translate\u001b[1;34m(self, text, dest, src, override)\u001b[0m\n\u001b[0;32m     76\u001b[0m \u001b[1;33m\u001b[0m\u001b[0m\n\u001b[0;32m     77\u001b[0m     \u001b[1;32mdef\u001b[0m \u001b[0m_translate\u001b[0m\u001b[1;33m(\u001b[0m\u001b[0mself\u001b[0m\u001b[1;33m,\u001b[0m \u001b[0mtext\u001b[0m\u001b[1;33m,\u001b[0m \u001b[0mdest\u001b[0m\u001b[1;33m,\u001b[0m \u001b[0msrc\u001b[0m\u001b[1;33m,\u001b[0m \u001b[0moverride\u001b[0m\u001b[1;33m)\u001b[0m\u001b[1;33m:\u001b[0m\u001b[1;33m\u001b[0m\u001b[1;33m\u001b[0m\u001b[0m\n\u001b[1;32m---> 78\u001b[1;33m         \u001b[0mtoken\u001b[0m \u001b[1;33m=\u001b[0m \u001b[0mself\u001b[0m\u001b[1;33m.\u001b[0m\u001b[0mtoken_acquirer\u001b[0m\u001b[1;33m.\u001b[0m\u001b[0mdo\u001b[0m\u001b[1;33m(\u001b[0m\u001b[0mtext\u001b[0m\u001b[1;33m)\u001b[0m\u001b[1;33m\u001b[0m\u001b[1;33m\u001b[0m\u001b[0m\n\u001b[0m\u001b[0;32m     79\u001b[0m         params = utils.build_params(query=text, src=src, dest=dest,\n\u001b[0;32m     80\u001b[0m                                     token=token, override=override)\n",
      "\u001b[1;32mc:\\users\\faraz\\appdata\\local\\programs\\python\\python37\\lib\\site-packages\\googletrans\\gtoken.py\u001b[0m in \u001b[0;36mdo\u001b[1;34m(self, text)\u001b[0m\n\u001b[0;32m    192\u001b[0m \u001b[1;33m\u001b[0m\u001b[0m\n\u001b[0;32m    193\u001b[0m     \u001b[1;32mdef\u001b[0m \u001b[0mdo\u001b[0m\u001b[1;33m(\u001b[0m\u001b[0mself\u001b[0m\u001b[1;33m,\u001b[0m \u001b[0mtext\u001b[0m\u001b[1;33m)\u001b[0m\u001b[1;33m:\u001b[0m\u001b[1;33m\u001b[0m\u001b[1;33m\u001b[0m\u001b[0m\n\u001b[1;32m--> 194\u001b[1;33m         \u001b[0mself\u001b[0m\u001b[1;33m.\u001b[0m\u001b[0m_update\u001b[0m\u001b[1;33m(\u001b[0m\u001b[1;33m)\u001b[0m\u001b[1;33m\u001b[0m\u001b[1;33m\u001b[0m\u001b[0m\n\u001b[0m\u001b[0;32m    195\u001b[0m         \u001b[0mtk\u001b[0m \u001b[1;33m=\u001b[0m \u001b[0mself\u001b[0m\u001b[1;33m.\u001b[0m\u001b[0macquire\u001b[0m\u001b[1;33m(\u001b[0m\u001b[0mtext\u001b[0m\u001b[1;33m)\u001b[0m\u001b[1;33m\u001b[0m\u001b[1;33m\u001b[0m\u001b[0m\n\u001b[0;32m    196\u001b[0m         \u001b[1;32mreturn\u001b[0m \u001b[0mtk\u001b[0m\u001b[1;33m\u001b[0m\u001b[1;33m\u001b[0m\u001b[0m\n",
      "\u001b[1;32mc:\\users\\faraz\\appdata\\local\\programs\\python\\python37\\lib\\site-packages\\googletrans\\gtoken.py\u001b[0m in \u001b[0;36m_update\u001b[1;34m(self)\u001b[0m\n\u001b[0;32m     60\u001b[0m \u001b[1;33m\u001b[0m\u001b[0m\n\u001b[0;32m     61\u001b[0m         \u001b[1;31m# this will be the same as python code after stripping out a reserved word 'var'\u001b[0m\u001b[1;33m\u001b[0m\u001b[1;33m\u001b[0m\u001b[1;33m\u001b[0m\u001b[0m\n\u001b[1;32m---> 62\u001b[1;33m         \u001b[0mcode\u001b[0m \u001b[1;33m=\u001b[0m \u001b[0mself\u001b[0m\u001b[1;33m.\u001b[0m\u001b[0mRE_TKK\u001b[0m\u001b[1;33m.\u001b[0m\u001b[0msearch\u001b[0m\u001b[1;33m(\u001b[0m\u001b[0mr\u001b[0m\u001b[1;33m.\u001b[0m\u001b[0mtext\u001b[0m\u001b[1;33m)\u001b[0m\u001b[1;33m.\u001b[0m\u001b[0mgroup\u001b[0m\u001b[1;33m(\u001b[0m\u001b[1;36m1\u001b[0m\u001b[1;33m)\u001b[0m\u001b[1;33m.\u001b[0m\u001b[0mreplace\u001b[0m\u001b[1;33m(\u001b[0m\u001b[1;34m'var '\u001b[0m\u001b[1;33m,\u001b[0m \u001b[1;34m''\u001b[0m\u001b[1;33m)\u001b[0m\u001b[1;33m\u001b[0m\u001b[1;33m\u001b[0m\u001b[0m\n\u001b[0m\u001b[0;32m     63\u001b[0m         \u001b[1;31m# unescape special ascii characters such like a \\x3d(=)\u001b[0m\u001b[1;33m\u001b[0m\u001b[1;33m\u001b[0m\u001b[1;33m\u001b[0m\u001b[0m\n\u001b[0;32m     64\u001b[0m         \u001b[0mcode\u001b[0m \u001b[1;33m=\u001b[0m \u001b[0mcode\u001b[0m\u001b[1;33m.\u001b[0m\u001b[0mencode\u001b[0m\u001b[1;33m(\u001b[0m\u001b[1;33m)\u001b[0m\u001b[1;33m.\u001b[0m\u001b[0mdecode\u001b[0m\u001b[1;33m(\u001b[0m\u001b[1;34m'unicode-escape'\u001b[0m\u001b[1;33m)\u001b[0m\u001b[1;33m\u001b[0m\u001b[1;33m\u001b[0m\u001b[0m\n",
      "\u001b[1;31mAttributeError\u001b[0m: 'NoneType' object has no attribute 'group'"
     ]
    }
   ],
   "source": [
    "english_translation=translator.translate(\"original_sentence\",dest='en')\n",
    "#print(english_translation.text)\n",
    "#text=str(english_translation.text)\n",
    "speak(english_translation.text)\n",
    "print(english_translation.text)"
   ]
  },
  {
   "cell_type": "code",
   "execution_count": 44,
   "metadata": {},
   "outputs": [
    {
     "name": "stdout",
     "output_type": "stream",
     "text": [
      "The city developed as a port in the Arabian Sea during ancient times; it has since developed into a major port of India that handles 75 per cent of India's coffee and cashew exports, and is the country's seventh largest container port. Mangalore has been ruled by several major powers, including the Kadambas, Alupas, Vijayanagar Empire, Keladi Nayaks and the Portuguese\n",
      "ಪ್ರಾಚೀನ ಕಾಲದಲ್ಲಿ ಈ ನಗರವು ಅರೇಬಿಯನ್ ಸಮುದ್ರದಲ್ಲಿ ಬಂದರಾಗಿ ಅಭಿವೃದ್ಧಿ ಹೊಂದಿತು; ಅಂದಿನಿಂದ ಇದು ಭಾರತದ ಪ್ರಮುಖ ಬಂದರಾಗಿ ಅಭಿವೃದ್ಧಿ ಹೊಂದಿದ್ದು, ಇದು ಭಾರತದ ಶೇಕಡಾ 75 ರಷ್ಟು ಕಾಫಿ ಮತ್ತು ಗೋಡಂಬಿ ರಫ್ತುಗಳನ್ನು ನಿರ್ವಹಿಸುತ್ತದೆ ಮತ್ತು ಇದು ದೇಶದ ಏಳನೇ ಅತಿದೊಡ್ಡ ಕಂಟೇನರ್ ಬಂದರು. ಕದಂಬಗಳು, ಅಲುಪಾಸ್, ವಿಜಯನಗರ ಸಾಮ್ರಾಜ್ಯ, ಕೆಲಾಡಿ ನಾಯಕರು ಮತ್ತು ಪೋರ್ಚುಗೀಸ್ ಸೇರಿದಂತೆ ಹಲವಾರು ಪ್ರಮುಖ ಶಕ್ತಿಗಳು ಮಂಗಳೂರನ್ನು ಆಳಿದೆ\n",
      "प्राचीन काल में यह शहर अरब सागर में एक बंदरगाह के रूप में विकसित हुआ; यह तब से भारत के एक प्रमुख बंदरगाह के रूप में विकसित हो गया है जो भारत के कॉफी और काजू निर्यात का 75 प्रतिशत संभालता है, और यह देश का सातवां सबसे बड़ा कंटेनर बंदरगाह है। मैंगलोर पर कई प्रमुख शक्तियों का शासन रहा है, जिनमें कदंब, अलुपास, विजयनगर साम्राज्य, केलाडी नायक और पुर्तगाली शामिल हैं।\n",
      "പുരാതന കാലത്ത് അറബിക്കടലിലെ ഒരു തുറമുഖമായി നഗരം വികസിച്ചു; ഇന്ത്യയുടെ 75 ശതമാനം കാപ്പി, കശുവണ്ടി കയറ്റുമതി കൈകാര്യം ചെയ്യുന്ന ഒരു പ്രധാന തുറമുഖമായി ഇത് വികസിച്ചു, രാജ്യത്തെ ഏഴാമത്തെ വലിയ കണ്ടെയ്നർ തുറമുഖമാണിത്. കടമ്പ, ആലുപാസ്, വിജയനഗർ സാമ്രാജ്യം, കേലാഡി നായക്കുകൾ, പോർച്ചുഗീസുകാർ തുടങ്ങി നിരവധി പ്രധാന ശക്തികളാണ് മംഗലാപുരം ഭരിച്ചിരുന്നത്.\n",
      "La ville s'est développée comme un port dans la mer d'Oman pendant les temps anciens ; il est depuis devenu un port majeur de l'Inde qui gère 75 pour cent des exportations indiennes de café et de noix de cajou, et est le septième plus grand port à conteneurs du pays. Mangalore a été gouverné par plusieurs grandes puissances, dont les Kadambas, les Alupas, l'empire Vijayanagar, les Keladi Nayaks et les Portugais.\n",
      "Die Stadt entwickelte sich in der Antike als Hafen im Arabischen Meer; Seitdem hat er sich zu einem bedeutenden Hafen Indiens entwickelt, der 75 Prozent der indischen Kaffee- und Cashew-Exporte abwickelt, und ist der siebtgrößte Containerhafen des Landes. Mangalore wurde von mehreren Großmächten regiert, darunter die Kadambas, Alupas, das Vijayanagar-Reich, die Keladi Nayaks und die Portugiesen\n"
     ]
    }
   ],
   "source": [
    "from googletrans import Translator\n",
    "\n",
    "\n",
    "f = open('C:\\\\Users\\\\Lenovo\\\\natural language\\\\in.txt', 'r')\n",
    "if f.mode == 'r':\n",
    "\tcontents = f.read()\n",
    "\tprint(contents)\n",
    "\n",
    "file_translate = Translator()\n",
    "\n",
    "\n",
    "\n",
    "\n",
    "\n",
    "result = file_translate.translate(contents, dest='kn') #Kannada\n",
    "print(result.text)\n",
    "\n",
    "with open('C:\\\\Users\\\\Lenovo\\\\natural language\\\\out.txt', 'w',encoding='utf-8') as f:\n",
    "            f.write(\"In Kannada\\n\\n\\n\")\n",
    "            f.write(result.text)\n",
    "\n",
    "result = file_translate.translate(contents, dest='hi') #Hindi\n",
    "print(result.text)\n",
    "\n",
    "with open('C:\\\\Users\\\\Lenovo\\\\natural language\\\\out.txt', 'a+',encoding='utf-8') as f:\n",
    "            f.write(\"\\n\\nIn Hindi\\n\\n\")\n",
    "            f.write(result.text)\n",
    "\n",
    "result = file_translate.translate(contents, dest='ml') #Malayalam\n",
    "print(result.text)\n",
    "\n",
    "\n",
    "with open('C:\\\\Users\\\\Lenovo\\\\natural language\\\\out.txt', 'a+',encoding='utf-8') as f:\n",
    "            f.write(\"\\n\\nIn Malayalam\\n\\n\")\n",
    "            f.write(result.text)\n",
    "\n",
    "result = file_translate.translate(contents, dest='fr') #French\n",
    "print(result.text)\n",
    "\n",
    "\n",
    "with open('C:\\\\Users\\\\Lenovo\\\\natural language\\\\out.txt', 'a+',encoding='utf-8') as f:\n",
    "            f.write(\"\\n\\nIn French\\n\\n\")\n",
    "            f.write(result.text)\n",
    "\n",
    "result = file_translate.translate(contents, dest='de') #German\n",
    "print(result.text)\n",
    "\n",
    "\n",
    "with open('C:\\\\Users\\\\Lenovo\\\\natural language\\\\out.txt', 'a+',encoding='utf-8') as f:\n",
    "            f.write(\"\\n\\nIn German\\n\\n\")\n",
    "            f.write(result.text)\n",
    "\n",
    "\n",
    "\n",
    "\n",
    "\n",
    "\n",
    "\n"
   ]
  },
  {
   "cell_type": "code",
   "execution_count": null,
   "metadata": {},
   "outputs": [],
   "source": []
  },
  {
   "cell_type": "code",
   "execution_count": null,
   "metadata": {},
   "outputs": [],
   "source": []
  },
  {
   "cell_type": "code",
   "execution_count": 37,
   "metadata": {},
   "outputs": [],
   "source": [
    "import pyaudio\n",
    "import wave\n",
    "\n",
    "def readlang():\n",
    "    CHUNK = 1024\n",
    "    FORMAT = pyaudio.paInt16\n",
    "    CHANNELS = 2\n",
    "    RATE = 44100\n",
    "    RECORD_SECONDS = 5\n",
    "    WAVE_OUTPUT_FILENAME = \"langauge.wav\"\n",
    "\n",
    "    p = pyaudio.PyAudio()\n",
    "\n",
    "    stream = p.open(format=FORMAT,\n",
    "                    channels=CHANNELS,\n",
    "                    rate=RATE,\n",
    "                    input=True,\n",
    "                    frames_per_buffer=CHUNK)\n",
    "\n",
    "    print(\"* recording\")\n",
    "\n",
    "    frames = []\n",
    "\n",
    "    for i in range(0, int(RATE / CHUNK * RECORD_SECONDS)):\n",
    "        data = stream.read(CHUNK)\n",
    "        frames.append(data)\n",
    "\n",
    "    #print(\"* done recording\")\n",
    "    stream.stop_stream()\n",
    "    stream.close()\n",
    "    p.terminate()\n",
    "\n",
    "    wf = wave.open(WAVE_OUTPUT_FILENAME, 'wb')\n",
    "    wf.setnchannels(CHANNELS)\n",
    "    wf.setsampwidth(p.get_sample_size(FORMAT))\n",
    "    wf.setframerate(RATE)\n",
    "    wf.writeframes(b''.join(frames))\n",
    "    wf.close()"
   ]
  },
  {
   "cell_type": "code",
   "execution_count": 34,
   "metadata": {},
   "outputs": [],
   "source": [
    "def recognizefile():\n",
    "    readlang()\n",
    "    r4=sr.Recognizer()\n",
    "    with sr.AudioFile('langauge.wav') as source:\n",
    "        audio=r4.listen(source)\n",
    "        text=''\n",
    "    try:\n",
    "        text=r4.recognize_google(audio)\n",
    "\n",
    "        print(text)\n",
    "    except:\n",
    "        print('j')\n",
    "    return text\n",
    "\n",
    "\n"
   ]
  },
  {
   "cell_type": "code",
   "execution_count": null,
   "metadata": {},
   "outputs": [],
   "source": [
    "import googletrans\n",
    "dictionary=googletrans.LANGUAGES\n",
    "print(dictionary)"
   ]
  },
  {
   "cell_type": "code",
   "execution_count": null,
   "metadata": {},
   "outputs": [],
   "source": [
    "def get_key(val):\n",
    "    for key, value in dictionary.items():\n",
    "         if val in value:\n",
    "             return key\n",
    "    return 'doesnt exists'"
   ]
  },
  {
   "cell_type": "code",
   "execution_count": 40,
   "metadata": {},
   "outputs": [],
   "source": [
    "f = open('C:\\\\Users\\\\Lenovo\\\\natural language\\\\in.txt', 'r')\n",
    "if f.mode == 'r':\n",
    "\tcontents = f.read()"
   ]
  },
  {
   "cell_type": "code",
   "execution_count": 32,
   "metadata": {},
   "outputs": [
    {
     "data": {
      "text/plain": [
       "\"The city developed as a port in the Arabian Sea during ancient times; it has since developed into a major port of India that handles 75 per cent of India's coffee and cashew exports, and is the country's seventh largest container port. Mangalore has been ruled by several major powers, including the Kadambas, Alupas, Vijayanagar Empire, Keladi Nayaks and the Portuguese\""
      ]
     },
     "execution_count": 32,
     "metadata": {},
     "output_type": "execute_result"
    }
   ],
   "source": [
    "contents"
   ]
  },
  {
   "cell_type": "code",
   "execution_count": 41,
   "metadata": {},
   "outputs": [
    {
     "name": "stdout",
     "output_type": "stream",
     "text": [
      "* recording\n",
      "Kannada\n",
      "ಪ್ರಾಚೀನ ಕಾಲದಲ್ಲಿ ಈ ನಗರವು ಅರೇಬಿಯನ್ ಸಮುದ್ರದಲ್ಲಿ ಬಂದರಾಗಿ ಅಭಿವೃದ್ಧಿ ಹೊಂದಿತು; ಅಂದಿನಿಂದ ಇದು ಭಾರತದ ಪ್ರಮುಖ ಬಂದರಾಗಿ ಅಭಿವೃದ್ಧಿ ಹೊಂದಿದ್ದು, ಇದು ಭಾರತದ ಶೇಕಡಾ 75 ರಷ್ಟು ಕಾಫಿ ಮತ್ತು ಗೋಡಂಬಿ ರಫ್ತುಗಳನ್ನು ನಿರ್ವಹಿಸುತ್ತದೆ ಮತ್ತು ಇದು ದೇಶದ ಏಳನೇ ಅತಿದೊಡ್ಡ ಕಂಟೇನರ್ ಬಂದರು. ಕದಂಬಗಳು, ಅಲುಪಾಸ್, ವಿಜಯನಗರ ಸಾಮ್ರಾಜ್ಯ, ಕೆಲಾಡಿ ನಾಯಕರು ಮತ್ತು ಪೋರ್ಚುಗೀಸ್ ಸೇರಿದಂತೆ ಹಲವಾರು ಪ್ರಮುಖ ಶಕ್ತಿಗಳು ಮಂಗಳೂರನ್ನು ಆಳಿದೆ\n"
     ]
    }
   ],
   "source": [
    "speak('to which language you want to convert')\n",
    "language=recognizefile()\n",
    "code=get_key(language.lower())\n",
    "translator=Translator()\n",
    "result = translator.translate(contents, dest=code)\n",
    "print(result.text)"
   ]
  },
  {
   "cell_type": "code",
   "execution_count": null,
   "metadata": {},
   "outputs": [],
   "source": []
  },
  {
   "cell_type": "code",
   "execution_count": 7,
   "metadata": {},
   "outputs": [],
   "source": []
  },
  {
   "cell_type": "code",
   "execution_count": 9,
   "metadata": {},
   "outputs": [],
   "source": []
  },
  {
   "cell_type": "code",
   "execution_count": 29,
   "metadata": {},
   "outputs": [],
   "source": []
  },
  {
   "cell_type": "code",
   "execution_count": null,
   "metadata": {},
   "outputs": [],
   "source": []
  },
  {
   "cell_type": "code",
   "execution_count": null,
   "metadata": {},
   "outputs": [],
   "source": []
  },
  {
   "cell_type": "code",
   "execution_count": null,
   "metadata": {},
   "outputs": [],
   "source": []
  }
 ],
 "metadata": {
  "kernelspec": {
   "display_name": "Python 3",
   "language": "python",
   "name": "python3"
  },
  "language_info": {
   "codemirror_mode": {
    "name": "ipython",
    "version": 3
   },
   "file_extension": ".py",
   "mimetype": "text/x-python",
   "name": "python",
   "nbconvert_exporter": "python",
   "pygments_lexer": "ipython3",
   "version": "3.7.4"
  }
 },
 "nbformat": 4,
 "nbformat_minor": 2
}
